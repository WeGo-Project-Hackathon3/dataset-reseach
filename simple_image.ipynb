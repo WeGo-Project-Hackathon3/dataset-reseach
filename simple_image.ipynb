{
 "cells": [
  {
   "cell_type": "code",
   "execution_count": 2,
   "id": "229cd971",
   "metadata": {},
   "outputs": [
    {
     "name": "stdout",
     "output_type": "stream",
     "text": [
      "Requirement already satisfied: simple_image_download in /home/ssac26/anaconda3/envs/hackerton/lib/python3.7/site-packages (0.2)\r\n",
      "Requirement already satisfied: requests in /home/ssac26/anaconda3/envs/hackerton/lib/python3.7/site-packages (from simple_image_download) (2.25.1)\r\n",
      "Requirement already satisfied: idna<3,>=2.5 in /home/ssac26/anaconda3/envs/hackerton/lib/python3.7/site-packages (from requests->simple_image_download) (2.10)\r\n",
      "Requirement already satisfied: urllib3<1.27,>=1.21.1 in /home/ssac26/anaconda3/envs/hackerton/lib/python3.7/site-packages (from requests->simple_image_download) (1.26.4)\r\n",
      "Requirement already satisfied: certifi>=2017.4.17 in /home/ssac26/anaconda3/envs/hackerton/lib/python3.7/site-packages (from requests->simple_image_download) (2020.12.5)\r\n",
      "Requirement already satisfied: chardet<5,>=3.0.2 in /home/ssac26/anaconda3/envs/hackerton/lib/python3.7/site-packages (from requests->simple_image_download) (4.0.0)\r\n"
     ]
    }
   ],
   "source": [
    "! pip install simple_image_download"
   ]
  },
  {
   "cell_type": "code",
   "execution_count": 3,
   "id": "38c60bf9",
   "metadata": {},
   "outputs": [],
   "source": [
    "from simple_image_download import simple_image_download as simp"
   ]
  },
  {
   "cell_type": "code",
   "execution_count": 6,
   "id": "7bb2a57f",
   "metadata": {},
   "outputs": [],
   "source": [
    "response = simp.simple_image_download"
   ]
  },
  {
   "cell_type": "code",
   "execution_count": 9,
   "id": "6fa4470e",
   "metadata": {
    "scrolled": true
   },
   "outputs": [],
   "source": [
    "response().download(\"한국인 뒷모습\", 100)"
   ]
  },
  {
   "cell_type": "code",
   "execution_count": null,
   "id": "bc3c1731",
   "metadata": {},
   "outputs": [],
   "source": []
  }
 ],
 "metadata": {
  "kernelspec": {
   "display_name": "hackerton",
   "language": "python",
   "name": "hackerton"
  },
  "language_info": {
   "codemirror_mode": {
    "name": "ipython",
    "version": 3
   },
   "file_extension": ".py",
   "mimetype": "text/x-python",
   "name": "python",
   "nbconvert_exporter": "python",
   "pygments_lexer": "ipython3",
   "version": "3.7.10"
  }
 },
 "nbformat": 4,
 "nbformat_minor": 5
}
